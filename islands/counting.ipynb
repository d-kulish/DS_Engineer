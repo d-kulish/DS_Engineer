{
 "cells": [
  {
   "cell_type": "code",
   "execution_count": 2,
   "metadata": {},
   "outputs": [],
   "source": [
    "def count_islands(grid):\n",
    "    \"\"\"Counts the number of islands in a given matrix.\n",
    "\n",
    "    Args:\n",
    "        grid: A 2D matrix representing the map, where 1 represents an island and 0 represents the ocean.\n",
    "\n",
    "    Returns:\n",
    "        The number of islands in the matrix.\n",
    "    \"\"\"\n",
    "\n",
    "    num_islands = 0\n",
    "\n",
    "    def dfs(i, j):\n",
    "        \"\"\"Performs a depth-first search to explore an island.\n",
    "\n",
    "        Args:\n",
    "            i: The row index of the current cell.\n",
    "            j: The column index of the current cell.\n",
    "        \"\"\"\n",
    "\n",
    "        if 0 <= i < len(grid) and 0 <= j < len(grid[0]) and grid[i][j] == 1:\n",
    "            grid[i][j] = 0  \n",
    "            dfs(i + 1, j)  \n",
    "            dfs(i - 1, j)\n",
    "            dfs(i, j + 1)\n",
    "            dfs(i, j - 1)\n",
    "\n",
    "    for i in range(len(grid)):\n",
    "        for j in range(len(grid[0])):\n",
    "            if grid[i][j] == 1:\n",
    "                num_islands += 1\n",
    "                dfs(i, j)\n",
    "\n",
    "    return num_islands\n"
   ]
  },
  {
   "cell_type": "code",
   "execution_count": 5,
   "metadata": {},
   "outputs": [
    {
     "name": "stdout",
     "output_type": "stream",
     "text": [
      "Number of islands: 4\n"
     ]
    }
   ],
   "source": [
    "map = [\n",
    "    [1, 1, 0, 0],\n",
    "    [0, 1, 0, 1],\n",
    "    [1, 1, 0, 1],\n",
    "    [0, 0, 0, 0],\n",
    "    [1, 0, 1, 1]\n",
    "]\n",
    "\n",
    "num_islands = count_islands(map)\n",
    "print(\"Number of islands:\", num_islands)\n"
   ]
  },
  {
   "cell_type": "code",
   "execution_count": null,
   "metadata": {},
   "outputs": [],
   "source": []
  }
 ],
 "metadata": {
  "kernelspec": {
   "display_name": "ds_eng",
   "language": "python",
   "name": "python3"
  },
  "language_info": {
   "codemirror_mode": {
    "name": "ipython",
    "version": 3
   },
   "file_extension": ".py",
   "mimetype": "text/x-python",
   "name": "python",
   "nbconvert_exporter": "python",
   "pygments_lexer": "ipython3",
   "version": "3.11.9"
  }
 },
 "nbformat": 4,
 "nbformat_minor": 2
}
