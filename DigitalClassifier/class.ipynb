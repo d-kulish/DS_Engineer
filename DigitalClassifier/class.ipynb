{
 "cells": [
  {
   "cell_type": "markdown",
   "metadata": {},
   "source": [
    "# Setting up "
   ]
  },
  {
   "cell_type": "code",
   "execution_count": 17,
   "metadata": {},
   "outputs": [],
   "source": [
    "import tensorflow as tf\n",
    "from tensorflow.keras.datasets import mnist\n",
    "from tensorflow.keras.models import Sequential\n",
    "from tensorflow.keras.layers import Conv2D, MaxPooling2D, Flatten, Dense\n",
    "from tensorflow.keras.utils import to_categorical\n",
    "import matplotlib.pyplot as plt\n",
    "import cv2\n",
    "from tensorflow.keras.models import load_model\n",
    "\n",
    "from sklearn.ensemble import RandomForestClassifier\n",
    "import pickle\n"
   ]
  },
  {
   "cell_type": "markdown",
   "metadata": {},
   "source": [
    "# Convolutional "
   ]
  },
  {
   "cell_type": "code",
   "execution_count": 13,
   "metadata": {},
   "outputs": [],
   "source": [
    "class Conv_MNISTClassifier:\n",
    "    def __init__(self):\n",
    "        self.model = None\n",
    "\n",
    "    def download_dataset(self):\n",
    "        (self.x_train, self.y_train), (self.x_test, self.y_test) = mnist.load_data()\n",
    "\n",
    "    def create_model(self):\n",
    "        self.model = Sequential([\n",
    "            Conv2D(32, (3, 3), activation='relu', input_shape=(28, 28, 1)),\n",
    "            MaxPooling2D((2, 2)),\n",
    "            Conv2D(64, (3, 3), activation='relu'),\n",
    "            MaxPooling2D((2, 2)),\n",
    "            Flatten(),\n",
    "            Dense(128, activation='relu'),\n",
    "            Dense(10, activation='softmax')\n",
    "        ])\n",
    "\n",
    "        self.model.compile(optimizer='adam', loss='categorical_crossentropy', metrics=['accuracy'])\n",
    "\n",
    "    def train_model(self, epochs=10):\n",
    "        self.x_train = self.x_train.reshape(-1, 28, 28, 1).astype('float32') / 255\n",
    "        self.x_test = self.x_test.reshape(-1, 28, 28, 1).astype('float32') / 255\n",
    "        self.y_train = to_categorical(self.y_train)\n",
    "        self.y_test = to_categorical(self.y_test)\n",
    "\n",
    "        self.model.fit(self.x_train, self.y_train, epochs=epochs, validation_data=(self.x_test, self.y_test))\n",
    "\n",
    "    def save_model(self, filename='models/mnist_model.keras'):\n",
    "        self.model.save(filename)\n",
    "\n",
    "    def predict_class(self, image_path): \n",
    "        self.model = load_model('models/mnist_model.keras')\n",
    "        img = cv2.imread(image_path, cv2.IMREAD_GRAYSCALE)\n",
    "        img = cv2.resize(img, (28, 28))\n",
    "        img = img.reshape(-1, 28, 28, 1).astype('float32') / 255\n",
    "\n",
    "        predicted_class = self.model.predict(img).argmax()\n",
    "        print(\"Predicted class:\", predicted_class)\n",
    "\n",
    "        plt.imshow(img.reshape(28, 28), cmap='gray')\n",
    "        plt.show()\n"
   ]
  },
  {
   "cell_type": "code",
   "execution_count": 5,
   "metadata": {},
   "outputs": [
    {
     "name": "stderr",
     "output_type": "stream",
     "text": [
      "/Users/dkulish/Projects/DS_Engineer/ds_eng/lib/python3.11/site-packages/keras/src/layers/convolutional/base_conv.py:107: UserWarning: Do not pass an `input_shape`/`input_dim` argument to a layer. When using Sequential models, prefer using an `Input(shape)` object as the first layer in the model instead.\n",
      "  super().__init__(activity_regularizer=activity_regularizer, **kwargs)\n"
     ]
    },
    {
     "name": "stdout",
     "output_type": "stream",
     "text": [
      "Epoch 1/10\n",
      "\u001b[1m1875/1875\u001b[0m \u001b[32m━━━━━━━━━━━━━━━━━━━━\u001b[0m\u001b[37m\u001b[0m \u001b[1m41s\u001b[0m 21ms/step - accuracy: 0.9058 - loss: 0.3087 - val_accuracy: 0.9840 - val_loss: 0.0486\n",
      "Epoch 2/10\n",
      "\u001b[1m1875/1875\u001b[0m \u001b[32m━━━━━━━━━━━━━━━━━━━━\u001b[0m\u001b[37m\u001b[0m \u001b[1m51s\u001b[0m 27ms/step - accuracy: 0.9854 - loss: 0.0466 - val_accuracy: 0.9885 - val_loss: 0.0327\n",
      "Epoch 3/10\n",
      "\u001b[1m1875/1875\u001b[0m \u001b[32m━━━━━━━━━━━━━━━━━━━━\u001b[0m\u001b[37m\u001b[0m \u001b[1m56s\u001b[0m 30ms/step - accuracy: 0.9914 - loss: 0.0283 - val_accuracy: 0.9923 - val_loss: 0.0247\n",
      "Epoch 4/10\n",
      "\u001b[1m1875/1875\u001b[0m \u001b[32m━━━━━━━━━━━━━━━━━━━━\u001b[0m\u001b[37m\u001b[0m \u001b[1m58s\u001b[0m 31ms/step - accuracy: 0.9937 - loss: 0.0195 - val_accuracy: 0.9902 - val_loss: 0.0318\n",
      "Epoch 5/10\n",
      "\u001b[1m1875/1875\u001b[0m \u001b[32m━━━━━━━━━━━━━━━━━━━━\u001b[0m\u001b[37m\u001b[0m \u001b[1m56s\u001b[0m 30ms/step - accuracy: 0.9957 - loss: 0.0133 - val_accuracy: 0.9873 - val_loss: 0.0413\n",
      "Epoch 6/10\n",
      "\u001b[1m1875/1875\u001b[0m \u001b[32m━━━━━━━━━━━━━━━━━━━━\u001b[0m\u001b[37m\u001b[0m \u001b[1m53s\u001b[0m 29ms/step - accuracy: 0.9965 - loss: 0.0119 - val_accuracy: 0.9909 - val_loss: 0.0338\n",
      "Epoch 7/10\n",
      "\u001b[1m1875/1875\u001b[0m \u001b[32m━━━━━━━━━━━━━━━━━━━━\u001b[0m\u001b[37m\u001b[0m \u001b[1m50s\u001b[0m 27ms/step - accuracy: 0.9973 - loss: 0.0082 - val_accuracy: 0.9910 - val_loss: 0.0287\n",
      "Epoch 8/10\n",
      "\u001b[1m1875/1875\u001b[0m \u001b[32m━━━━━━━━━━━━━━━━━━━━\u001b[0m\u001b[37m\u001b[0m \u001b[1m51s\u001b[0m 27ms/step - accuracy: 0.9983 - loss: 0.0058 - val_accuracy: 0.9909 - val_loss: 0.0347\n",
      "Epoch 9/10\n",
      "\u001b[1m1875/1875\u001b[0m \u001b[32m━━━━━━━━━━━━━━━━━━━━\u001b[0m\u001b[37m\u001b[0m \u001b[1m50s\u001b[0m 27ms/step - accuracy: 0.9977 - loss: 0.0066 - val_accuracy: 0.9931 - val_loss: 0.0293\n",
      "Epoch 10/10\n",
      "\u001b[1m1875/1875\u001b[0m \u001b[32m━━━━━━━━━━━━━━━━━━━━\u001b[0m\u001b[37m\u001b[0m \u001b[1m55s\u001b[0m 29ms/step - accuracy: 0.9986 - loss: 0.0038 - val_accuracy: 0.9907 - val_loss: 0.0380\n"
     ]
    }
   ],
   "source": [
    "conv_classifier = Conv_MNISTClassifier()\n",
    "conv_classifier.download_dataset()\n",
    "conv_classifier.create_model()\n",
    "conv_classifier.train_model()\n",
    "conv_classifier.save_model()\n"
   ]
  },
  {
   "cell_type": "code",
   "execution_count": 16,
   "metadata": {},
   "outputs": [
    {
     "name": "stdout",
     "output_type": "stream",
     "text": [
      "\u001b[1m1/1\u001b[0m \u001b[32m━━━━━━━━━━━━━━━━━━━━\u001b[0m\u001b[37m\u001b[0m \u001b[1m0s\u001b[0m 65ms/step\n",
      "Predicted class: 2\n"
     ]
    },
    {
     "data": {
      "image/png": "[encoded data removed]",
      "text/plain": [
       "<Figure size 640x480 with 1 Axes>"
      ]
     },
     "metadata": {},
     "output_type": "display_data"
    }
   ],
   "source": [
    "conv_classifier.predict_class(\"images/img_815.jpg\")\n"
   ]
  },
  {
   "cell_type": "markdown",
   "metadata": {},
   "source": [
    "# Random Forest "
   ]
  },
  {
   "cell_type": "code",
   "execution_count": 18,
   "metadata": {},
   "outputs": [],
   "source": [
    "\n",
    "class RandomForest_MNISClassifier:\n",
    "    def __init__(self):\n",
    "        self.model = None\n",
    "\n",
    "    def download_dataset(self):\n",
    "        (self.x_train, self.y_train), (self.x_test, self.y_test) = mnist.load_data()\n",
    "\n",
    "    def create_model(self):\n",
    "        self.model = RandomForestClassifier(n_estimators=100, random_state=42)\n",
    "\n",
    "    def train_model(self):\n",
    "        self.x_train = self.x_train.reshape(-1, 28 * 28).astype('float32') / 255\n",
    "        self.x_test = self.x_test.reshape(-1, 28 * 28).astype('float32') / 255\n",
    "        self.y_train = to_categorical(self.y_train)\n",
    "        self.y_test = to_categorical(self.y_test)\n",
    "\n",
    "        self.model.fit(self.x_train, self.y_train)\n",
    "\n",
    "    def save_model(self, filename='models/mnist_rf_model.pkl'):\n",
    "        with open(filename, 'wb') as f:\n",
    "            pickle.dump(self.model, f)\n",
    "\n",
    "    def predict_class(self, image_path):\n",
    "        with open('models/mnist_rf_model.pkl', 'rb') as f:\n",
    "           self.model = pickle.load(f)\n",
    "\n",
    "        img = cv2.imread(image_path, cv2.IMREAD_GRAYSCALE)\n",
    "        img = cv2.resize(img, (28, 28))\n",
    "        img = img.reshape(-1, 28 * 28).astype('float32') / 255\n",
    "\n",
    "        predicted_class = self.model.predict(img)\n",
    "        print(\"Predicted class:\", predicted_class)\n",
    "\n",
    "        plt.imshow(img.reshape(28, 28), cmap='gray')\n",
    "        plt.show()\n",
    "\n"
   ]
  },
  {
   "cell_type": "code",
   "execution_count": 19,
   "metadata": {},
   "outputs": [],
   "source": [
    "rf_classifier = RandomForest_MNISClassifier()\n"
   ]
  },
  {
   "cell_type": "code",
   "execution_count": 20,
   "metadata": {},
   "outputs": [],
   "source": [
    "# rf_classifier = RandomForest_MNISClassifier()\n",
    "rf_classifier.download_dataset()\n",
    "rf_classifier.create_model()\n",
    "rf_classifier.train_model()\n",
    "rf_classifier.save_model()\n"
   ]
  },
  {
   "cell_type": "code",
   "execution_count": 21,
   "metadata": {},
   "outputs": [
    {
     "name": "stdout",
     "output_type": "stream",
     "text": [
      "Predicted class: [[0. 0. 0. 0. 0. 0. 0. 0. 0. 0.]]\n"
     ]
    },
    {
     "data": {
      "image/png": "[encoded data removed]",
      "text/plain": [
       "<Figure size 640x480 with 1 Axes>"
      ]
     },
     "metadata": {},
     "output_type": "display_data"
    }
   ],
   "source": [
    "rf_classifier.predict_class(\"images/img_815.jpg\")\n"
   ]
  }
 ],
 "metadata": {
  "kernelspec": {
   "display_name": "ds_eng",
   "language": "python",
   "name": "python3"
  },
  "language_info": {
   "codemirror_mode": {
    "name": "ipython",
    "version": 3
   },
   "file_extension": ".py",
   "mimetype": "text/x-python",
   "name": "python",
   "nbconvert_exporter": "python",
   "pygments_lexer": "ipython3",
   "version": "3.11.9"
  }
 },
 "nbformat": 4,
 "nbformat_minor": 2
}
