{
 "cells": [
  {
   "cell_type": "code",
   "execution_count": 1,
   "metadata": {},
   "outputs": [
    {
     "name": "stdout",
     "output_type": "stream",
     "text": [
      "Deleted 27950 files randomly.\n"
     ]
    }
   ],
   "source": [
    "import os\n",
    "import random\n",
    "\n",
    "def delete_random_files(folder_path, num_to_keep):\n",
    "  \"\"\"Deletes random files from a specified folder, keeping the specified number.\n",
    "\n",
    "  Args:\n",
    "    folder_path: The path to the folder containing the files.\n",
    "    num_to_keep: The number of files to keep.\n",
    "  \"\"\"\n",
    "\n",
    "  # Get a list of all files in the folder\n",
    "  files = os.listdir(folder_path)\n",
    "\n",
    "  # Check if there are enough files to keep\n",
    "  if len(files) <= num_to_keep:\n",
    "    print(\"There are not enough files to delete.\")\n",
    "    return\n",
    "\n",
    "  # Randomly select files to delete\n",
    "  files_to_delete = random.sample(files, len(files) - num_to_keep)\n",
    "\n",
    "  # Delete the selected files\n",
    "  for file in files_to_delete:\n",
    "    os.remove(os.path.join(folder_path, file))\n",
    "\n",
    "  print(f\"Deleted {len(files_to_delete)} files randomly.\")\n",
    "\n",
    "# Replace 'your_folder_path' with the actual path to your folder\n",
    "folder_path = 'testSet'\n",
    "num_to_keep = 50\n",
    "\n",
    "delete_random_files(folder_path, num_to_keep)\n"
   ]
  }
 ],
 "metadata": {
  "kernelspec": {
   "display_name": "ds_eng",
   "language": "python",
   "name": "python3"
  },
  "language_info": {
   "codemirror_mode": {
    "name": "ipython",
    "version": 3
   },
   "file_extension": ".py",
   "mimetype": "text/x-python",
   "name": "python",
   "nbconvert_exporter": "python",
   "pygments_lexer": "ipython3",
   "version": "3.11.9"
  }
 },
 "nbformat": 4,
 "nbformat_minor": 2
}
